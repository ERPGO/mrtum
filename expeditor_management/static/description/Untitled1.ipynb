{
 "cells": [
  {
   "cell_type": "code",
   "execution_count": 8,
   "metadata": {},
   "outputs": [],
   "source": [
    "modules = env['ir.module.module']"
   ]
  },
  {
   "cell_type": "code",
   "execution_count": 10,
   "metadata": {},
   "outputs": [
    {
     "data": {
      "text/plain": [
       "[{'id': 395,\n",
       "  'name': 'expeditor_management',\n",
       "  'category_id': (11, 'Sales'),\n",
       "  'shortdesc': 'Expeditor Management',\n",
       "  'summary': '\\n        Expeditor management module',\n",
       "  'description': '\\n        Expeditor management module\\n    ',\n",
       "  'author': 'ERPGO',\n",
       "  'maintainer': False,\n",
       "  'contributors': False,\n",
       "  'website': 'http://www.erpgo.az',\n",
       "  'latest_version': False,\n",
       "  'published_version': False,\n",
       "  'url': '',\n",
       "  'sequence': 100,\n",
       "  'dependencies_id': [737, 992, 993, 994, 996],\n",
       "  'exclusion_ids': [],\n",
       "  'auto_install': False,\n",
       "  'state': 'uninstalled',\n",
       "  'demo': True,\n",
       "  'license': 'LGPL-3',\n",
       "  'menus_by_module': '',\n",
       "  'reports_by_module': '',\n",
       "  'views_by_module': '',\n",
       "  'application': False,\n",
       "  'icon': '/base/static/description/icon.png',\n",
       "  'to_buy': False,\n",
       "  'imported': False,\n",
       "  'create_uid': False,\n",
       "  'create_date': False,\n",
       "  'write_uid': (1, 'OdooBot'),\n",
       "  'write_date': datetime.datetime(2019, 2, 25, 15, 28, 26, 299247),\n",
       "  'description_html': '<div class=\"document\">\\n\\n\\n<blockquote data-o-mail-quote=\"1\">\\nExpeditor management module</blockquote>\\n</div>\\n\\n',\n",
       "  'installed_version': '12.0.0.1',\n",
       "  'icon_image': b'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',\n",
       "  'display_name': 'Expeditor Management',\n",
       "  '__last_update': datetime.datetime(2019, 2, 25, 15, 28, 26, 299247)}]"
      ]
     },
     "execution_count": 10,
     "metadata": {},
     "output_type": "execute_result"
    }
   ],
   "source": [
    "modules.search_read([('name', 'ilike', \"expeditor\")])"
   ]
  },
  {
   "cell_type": "code",
   "execution_count": null,
   "metadata": {},
   "outputs": [],
   "source": []
  }
 ],
 "metadata": {
  "kernelspec": {
   "display_name": "Odoo-shell",
   "language": "",
   "name": "odoo"
  },
  "language_info": {
   "codemirror_mode": {
    "name": "ipython",
    "version": 3
   },
   "file_extension": ".py",
   "mimetype": "text/x-python",
   "name": "python",
   "nbconvert_exporter": "python",
   "pygments_lexer": "ipython3",
   "version": "3.6.7"
  }
 },
 "nbformat": 4,
 "nbformat_minor": 2
}
